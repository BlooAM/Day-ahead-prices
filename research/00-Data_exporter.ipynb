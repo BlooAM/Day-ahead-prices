{
 "cells": [
  {
   "cell_type": "code",
   "execution_count": 59,
   "metadata": {
    "pycharm": {
     "name": "#%%\n"
    }
   },
   "outputs": [],
   "source": [
    "import pandas as pd"
   ]
  },
  {
   "cell_type": "markdown",
   "metadata": {
    "collapsed": true,
    "pycharm": {
     "name": "#%% md\n"
    }
   },
   "source": [
    "Remember to fill pv forecast!"
   ]
  },
  {
   "cell_type": "code",
   "execution_count": 60,
   "metadata": {
    "pycharm": {
     "name": "#%%\n"
    }
   },
   "outputs": [],
   "source": [
    "def read_data():\n",
    "    data_ = pd.DataFrame()\n",
    "    folder_path = 'data'\n",
    "    for file_name in ['features_2018.csv', 'features_2019.csv', 'features_2020.csv']:\n",
    "        file_path = '/'.join([folder_path, file_name])\n",
    "        data_ = pd.concat([\n",
    "            data_,\n",
    "            pd.read_csv(file_path, index_col=0)\n",
    "        ])\n",
    "    data_.index = pd.to_datetime(data_.index)\n",
    "\n",
    "    prices = pd.read_csv('data/prices.csv',\n",
    "                         parse_dates=['delivery_start_utc'],\n",
    "                         )\n",
    "    prices['delivery_start_utc'] = prices['delivery_start_utc'].dt.tz_localize('UTC')\n",
    "    prices['delivery_start_utc'] = prices['delivery_start_utc'].dt.tz_convert('Europe/Warsaw')\n",
    "    prices['delivery_start_utc'] = prices['delivery_start_utc'].dt.tz_localize(None)\n",
    "    prices.set_index('delivery_start_utc', inplace=True)\n",
    "    prices = prices[['price']]\n",
    "\n",
    "    return pd.merge(prices, data_, left_index=True, right_index=True)\n",
    "\n",
    "data = read_data()"
   ]
  },
  {
   "cell_type": "markdown",
   "metadata": {},
   "source": [
    "# Fill missings"
   ]
  },
  {
   "cell_type": "code",
   "execution_count": 76,
   "metadata": {
    "pycharm": {
     "name": "#%%\n"
    }
   },
   "outputs": [],
   "source": [
    "def fill_pv_generation_missings(data):\n",
    "    pv_profile = pd.read_pickle('data/pv_profile.pkl')\n",
    "    pv_profile.set_index('date', inplace=True)\n",
    "    pv_profile = pv_profile[['system_generation']]\n",
    "    pv_profile.index = pd.to_datetime(pv_profile.index)\n",
    "    missing_solar_timestamps = data[data['generation_solar_actual'].isna()].index\n",
    "    solar_generation = pv_profile[pv_profile.index.isin(missing_solar_timestamps)]\n",
    "    data.loc[data.index.isin(solar_generation.index), 'generation_solar_actual'] = solar_generation['system_generation']\n",
    "    data.loc[data.index < pv_profile.index.min(), 'generation_solar_actual'] = 0\n",
    "    # Last 5 missings in November after 6 p.m.\n",
    "    data.loc[data['generation_solar_actual'].isna(), 'generation_solar_actual'] = 0\n",
    "    return data\n",
    "\n",
    "def fill_all_missings(data):\n",
    "    missings = data.isnull().sum()\n",
    "    missing_columns = missings[missings>0].index\n",
    "    data[missing_columns] = data[missing_columns].fillna(data[missing_columns].median())\n",
    "    return data\n",
    "\n",
    "data_filled_with_pv = fill_pv_generation_missings(data=data)\n",
    "data_filled = fill_all_missings(data=data_filled_with_pv)"
   ]
  },
  {
   "cell_type": "markdown",
   "metadata": {
    "pycharm": {
     "name": "#%% md\n"
    }
   },
   "source": [
    "# Filter columns"
   ]
  },
  {
   "cell_type": "code",
   "execution_count": 77,
   "metadata": {
    "pycharm": {
     "name": "#%%\n"
    }
   },
   "outputs": [],
   "source": [
    "data_filtered = data_filled.drop(columns=[\n",
    "    'capacity_njwcd_forecast',\n",
    "    'capacity_jwcd_forecast',\n",
    "    'reserve1_forecast',\n",
    "    'load_forecast',\n",
    "    'reserve2_forecast',\n",
    "    'generation_jwcd_forecast',\n",
    "    'generation_pi_actual',\n",
    "    'generation_irz_actual',\n",
    "    'co2_price_eur_actual',\n",
    "    'UA_EXP',\n",
    "])"
   ]
  },
  {
   "cell_type": "markdown",
   "metadata": {
    "pycharm": {
     "name": "#%% md\n"
    }
   },
   "source": [
    "# Get lags and filter"
   ]
  },
  {
   "cell_type": "code",
   "execution_count": 99,
   "metadata": {
    "pycharm": {
     "name": "#%%\n"
    }
   },
   "outputs": [],
   "source": [
    "def get_lags(df, columns, lags):\n",
    "    df_copy = df.copy()\n",
    "    for column in columns:\n",
    "        for lag in lags:\n",
    "            if column not in df.columns:\n",
    "                print(f'Column {column} not found in given data frame columns')\n",
    "                return df\n",
    "            df_copy[f'{column}_lag_{lag}'] = df_copy[column].shift(lag)\n",
    "    return df_copy\n",
    "\n",
    "fixed_columns =  ['forecast_PLN', 'weekday', 'month'] #Not to be lagged\n",
    "columns_to_lag = [column for column in data_filtered.columns if column not in fixed_columns]\n",
    "lags = [24, 7*24]\n",
    "data_lagged = get_lags(df=data_filtered, columns=columns_to_lag, lags=lags)\n",
    "data_lagged = data_lagged[max(lags):]"
   ]
  },
  {
   "cell_type": "code",
   "execution_count": 105,
   "metadata": {
    "pycharm": {
     "name": "#%%\n"
    }
   },
   "outputs": [],
   "source": [
    "columns_to_drop = [\n",
    "    'load_actual',\n",
    "    'generation_jwcd_actual',\n",
    "    'generation_njwcd_actual',\n",
    "    'crossborder_sync_balance_actual',\n",
    "    'crossborder_async_balance_actual',\n",
    "    'CEPS_EXP',\n",
    "    'CEPS_IMP',\n",
    "    'SEPS_EXP',\n",
    "    'SEPS_IMP',\n",
    "    '50HzT_EXP',\n",
    "    '50HzT_IMP',\n",
    "    'SVK_EXP',\n",
    "    'SVK_IMP',\n",
    "    'UA_IMP',\n",
    "    'LIT_EXP',\n",
    "    'LIT_IMP',\n",
    "    'generation_wind_actual',\n",
    "    'generation_solar_actual',\n",
    "    'Biomass 200 generation',\n",
    "    'Gas 200 generation',\n",
    "    'Gas 500 generation',\n",
    "    'HPS 100 generation',\n",
    "    'HPS 200 generation',\n",
    "    'Hard coal 100 generation',\n",
    "    'Hard coal 1000 generation',\n",
    "    'Hard coal 200 generation',\n",
    "    'Hard coal 300 generation',\n",
    "    'Hard coal 500 generation',\n",
    "    'Lignite 1000 generation',\n",
    "    'Lignite 200 generation',\n",
    "    'Lignite 300 generation',\n",
    "    'Lignite 500 generation',\n",
    "    'co2_price_pln_actual_lag_168',\n",
    "    'generation_wind_forecast_lag_24',\n",
    "    'generation_wind_forecast_lag_168',\n",
    "    'generation_solar_forecast_lag_24',\n",
    "    'generation_solar_forecast_lag_168',\n",
    "    'generation_wind_actual_lag_168',\n",
    "    'generation_solar_actual_lag_168',\n",
    "    'Gas 500 available_lag_24',\n",
    "    'Gas 500 available_lag_168',\n",
    "    'Hard coal 100 available_lag_24',\n",
    "    'Hard coal 100 available_lag_168',\n",
    "    'Hard coal 1000 available_lag_24',\n",
    "    'Hard coal 1000 available_lag_168',\n",
    "    'Hard coal 200 available_lag_24',\n",
    "    'Hard coal 200 available_lag_168',\n",
    "    'Hard coal 500 available_lag_24',\n",
    "    'Hard coal 500 available_lag_168',\n",
    "    'Lignite 200 available_lag_24',\n",
    "    'Lignite 200 available_lag_168',\n",
    "    'Lignite 300 available_lag_24',\n",
    "    'Lignite 300 available_lag_168',\n",
    "    'Hard coal 300 available_lag_24',\n",
    "    'Hard coal 300 available_lag_168',\n",
    "    'Lignite 500 available_lag_24',\n",
    "    'Lignite 500 available_lag_168',\n",
    "    'Lignite 1000 available_lag_24',\n",
    "    'Lignite 1000 available_lag_168',\n",
    "    'Biomass 200 available_lag_24',\n",
    "    'Biomass 200 available_lag_168',\n",
    "    'Gas 200 available_lag_24',\n",
    "    'Gas 200 available_lag_168',\n",
    "    'HPS 100 available_lag_24',\n",
    "    'HPS 100 available_lag_168',\n",
    "    'HPS 200 available_lag_24',\n",
    "    'HPS 200 available_lag_168',\n",
    "]\n",
    "data_lagged_filtered = data_lagged.drop(columns=columns_to_drop)"
   ]
  },
  {
   "cell_type": "code",
   "execution_count": 106,
   "metadata": {
    "pycharm": {
     "name": "#%%\n"
    }
   },
   "outputs": [],
   "source": [
    "final = data_lagged_filtered.reset_index().rename(columns={'index': 'timestamp'})"
   ]
  },
  {
   "cell_type": "code",
   "execution_count": 107,
   "metadata": {
    "pycharm": {
     "name": "#%%\n"
    }
   },
   "outputs": [],
   "source": [
    "final.to_csv('data/full_data_filtered.csv', index=False)"
   ]
  }
 ],
 "metadata": {
  "kernelspec": {
   "display_name": "Python 3",
   "language": "python",
   "name": "python3"
  },
  "language_info": {
   "codemirror_mode": {
    "name": "ipython",
    "version": 3
   },
   "file_extension": ".py",
   "mimetype": "text/x-python",
   "name": "python",
   "nbconvert_exporter": "python",
   "pygments_lexer": "ipython3",
   "version": "3.7.10"
  }
 },
 "nbformat": 4,
 "nbformat_minor": 1
}
